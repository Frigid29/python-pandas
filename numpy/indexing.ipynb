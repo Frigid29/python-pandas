{
 "cells": [
  {
   "cell_type": "code",
   "execution_count": 33,
   "metadata": {},
   "outputs": [],
   "source": [
    "import numpy as np"
   ]
  },
  {
   "cell_type": "code",
   "execution_count": 50,
   "metadata": {},
   "outputs": [
    {
     "name": "stdout",
     "output_type": "stream",
     "text": [
      "[12 11  5 12 15]\n"
     ]
    }
   ],
   "source": [
    "np.random.seed(6)\n",
    "ar=np.random.randint(2,20,5)\n",
    "print(ar)"
   ]
  },
  {
   "cell_type": "code",
   "execution_count": 35,
   "metadata": {},
   "outputs": [
    {
     "name": "stdout",
     "output_type": "stream",
     "text": [
      "index 0:  13  <= 1st element\n",
      "index 1:  7  <= 2nd element\n",
      "index 2:  7  <= 3rd element\n",
      "index 3:  19  <= 4th element\n",
      "index 4:  6  <= 5th element\n"
     ]
    }
   ],
   "source": [
    "print(\"index 0: \",ar[0],\" <= 1st element\")\n",
    "print(\"index 1: \",ar[1],\" <= 2nd element\")\n",
    "print(\"index 2: \",ar[2],\" <= 3rd element\")\n",
    "print(\"index 3: \",ar[3],\" <= 4th element\")\n",
    "print(\"index 4: \",ar[4],\" <= 5th element\")"
   ]
  },
  {
   "cell_type": "code",
   "execution_count": 36,
   "metadata": {},
   "outputs": [
    {
     "name": "stdout",
     "output_type": "stream",
     "text": [
      "negative index -1:  6  <=5th element\n",
      "negative index -2:  19  <=4th element\n",
      "negative index -3:  7  <=3rd element\n",
      "negative index -4:  7  <=2nd element\n",
      "negative index -5:  13  <=1st element\n"
     ]
    }
   ],
   "source": [
    "print(\"negative index -1: \",ar[-1],\" <=5th element\")\n",
    "print(\"negative index -2: \",ar[-2],\" <=4th element\")\n",
    "print(\"negative index -3: \",ar[-3],\" <=3rd element\")\n",
    "print(\"negative index -4: \",ar[-4],\" <=2nd element\")\n",
    "print(\"negative index -5: \",ar[-5],\" <=1st element\")"
   ]
  },
  {
   "cell_type": "code",
   "execution_count": 52,
   "metadata": {},
   "outputs": [
    {
     "name": "stdout",
     "output_type": "stream",
     "text": [
      "[[37 20 36]\n",
      " [18 49 36]]\n"
     ]
    }
   ],
   "source": [
    "np.random.seed(61)\n",
    "ar2d=np.random.randint(2,50,6)\n",
    "ar2d=ar2d.reshape(2,3)\n",
    "print(ar2d)"
   ]
  },
  {
   "cell_type": "code",
   "execution_count": 53,
   "metadata": {},
   "outputs": [
    {
     "name": "stdout",
     "output_type": "stream",
     "text": [
      "2 nd row 2nd element:  49\n"
     ]
    }
   ],
   "source": [
    "print(\"2 nd row 2nd element: \", ar2d[1][1])"
   ]
  },
  {
   "cell_type": "code",
   "execution_count": 65,
   "metadata": {},
   "outputs": [
    {
     "name": "stdout",
     "output_type": "stream",
     "text": [
      "[[[75 30  3]\n",
      "  [32 95 61]]\n",
      "\n",
      " [[85 35 68]\n",
      "  [15 65 14]]]\n"
     ]
    }
   ],
   "source": [
    "np.random.seed(45)\n",
    "arrr=np.random.randint(0,100,12)\n",
    "ar3d= arrr.reshape(2,2,3)\n",
    "print(ar3d)"
   ]
  },
  {
   "cell_type": "code",
   "execution_count": 69,
   "metadata": {},
   "outputs": [
    {
     "name": "stdout",
     "output_type": "stream",
     "text": [
      "element at position 2,2,1:  15\n"
     ]
    }
   ],
   "source": [
    "print(\"element at position 2,2,1: \", ar3d[1][1][0])"
   ]
  },
  {
   "cell_type": "markdown",
   "metadata": {},
   "source": [
    "Slicing"
   ]
  },
  {
   "cell_type": "code",
   "execution_count": 83,
   "metadata": {},
   "outputs": [
    {
     "name": "stdout",
     "output_type": "stream",
     "text": [
      "[1 2 3 4 5 6 7]\n",
      "\n",
      "(7,)\n",
      "\n",
      "2 to 5 [2 3 4 5]\n",
      "\n",
      "2 to end [2 3 4 5 6 7]\n",
      " \n",
      "start to end with alternate values:  [1 3 5 7]\n"
     ]
    }
   ],
   "source": [
    "var=np.array([1,2,3,4,5,6,7])\n",
    "#index        0,1,2,3,4,5,6\n",
    "print(var)\n",
    "print()\n",
    "print(var.shape)\n",
    "print()\n",
    "print(\"2 to 5\", var[1:5])\n",
    "print()\n",
    "print(\"2 to end\", var[1:],end=\"\\n \\n\")\n",
    "print(\"start to end with alternate values: \", var[::2])"
   ]
  },
  {
   "cell_type": "code",
   "execution_count": 85,
   "metadata": {},
   "outputs": [
    {
     "name": "stdout",
     "output_type": "stream",
     "text": [
      "[2 3 4 6]\n",
      "[5 7 4 1]\n"
     ]
    }
   ],
   "source": [
    "var2=np.array([[1,2,3,4,6,7,8],[5,6,7,8,4,2,1]])\n",
    "print(var2[0,1:5])\n",
    "print(var2[1,::2])"
   ]
  },
  {
   "cell_type": "code",
   "execution_count": 87,
   "metadata": {},
   "outputs": [
    {
     "name": "stdout",
     "output_type": "stream",
     "text": [
      "[[[21 32  6 24 45 60 10]\n",
      "  [84 35 28 61 96 90 63]\n",
      "  [66 89 24 54 72 58 88]]\n",
      "\n",
      " [[99 65  9 88 47 33 21]\n",
      "  [83 95 83 42 71 73 33]\n",
      "  [31 18 29 15 60 25 79]]\n",
      "\n",
      " [[95 35 52 70 96 94 14]\n",
      "  [54 11 84 90 51 78 78]\n",
      "  [81 69 93 11 12 66  4]]]\n",
      "\n",
      "[54 84 51 78]\n"
     ]
    }
   ],
   "source": [
    "np.random.seed(89)\n",
    "var3=np.random.randint(2,100,(7*3*3))\n",
    "var3=var3.reshape(3, 3, 7)\n",
    "print(var3, end=\"\\n\\n\")\n",
    "print(var3[2,1,::2])"
   ]
  }
 ],
 "metadata": {
  "kernelspec": {
   "display_name": "Python 3",
   "language": "python",
   "name": "python3"
  },
  "language_info": {
   "codemirror_mode": {
    "name": "ipython",
    "version": 3
   },
   "file_extension": ".py",
   "mimetype": "text/x-python",
   "name": "python",
   "nbconvert_exporter": "python",
   "pygments_lexer": "ipython3",
   "version": "3.12.0"
  }
 },
 "nbformat": 4,
 "nbformat_minor": 2
}
