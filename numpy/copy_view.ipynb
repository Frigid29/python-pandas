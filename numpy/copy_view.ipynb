{
 "cells": [
  {
   "cell_type": "code",
   "execution_count": 1,
   "metadata": {},
   "outputs": [],
   "source": [
    "import numpy as np"
   ]
  },
  {
   "cell_type": "code",
   "execution_count": 12,
   "metadata": {},
   "outputs": [
    {
     "name": "stdout",
     "output_type": "stream",
     "text": [
      "real :  [1 2 3 4]\n",
      "copied :  [1 2 3 4]\n",
      "\n",
      "real :  [9 2 3 4]\n",
      "copied :  [1 2 3 4]\n",
      "\n",
      "real :  [9 2 3 4]\n",
      "copied :  [1 5 3 4]\n",
      "\n"
     ]
    }
   ],
   "source": [
    "var=np.array([1,2,3,4])\n",
    "co=var.copy()\n",
    "\n",
    "print(\"real : \",var)\n",
    "print(\"copied : \",co)\n",
    "print()\n",
    "\n",
    "#changes done in original are not reflected on the copied array\n",
    "var[0]=9\n",
    "print(\"real : \",var)\n",
    "print(\"copied : \",co)\n",
    "print()\n",
    "\n",
    "#changes done in the copied array are not reflected in the real array\n",
    "co[1]=5\n",
    "print(\"real : \",var)\n",
    "print(\"copied : \",co)\n",
    "print()"
   ]
  },
  {
   "cell_type": "code",
   "execution_count": 11,
   "metadata": {},
   "outputs": [
    {
     "name": "stdout",
     "output_type": "stream",
     "text": [
      "real :  [1 2 3 4 5 6 7]\n",
      "viewed :  [1 2 3 4 5 6 7]\n",
      "\n",
      "real :  [9 2 3 4 5 6 7]\n",
      "viewed :  [9 2 3 4 5 6 7]\n",
      "\n",
      "real :  [9 5 3 4 5 6 7]\n",
      "viewed :  [9 5 3 4 5 6 7]\n",
      "\n"
     ]
    }
   ],
   "source": [
    "var2=np.array([1,2,3,4,5,6,7])\n",
    "vi=var2.view()\n",
    "\n",
    "print(\"real : \",var2)  \n",
    "print(\"viewed : \",vi)\n",
    "print()\n",
    "\n",
    "#changes done in original are reflected on the viewed array\n",
    "var2[0]=9\n",
    "print(\"real : \",var2)\n",
    "print(\"viewed : \",vi)\n",
    "print()\n",
    "\n",
    "#changes done in the viewed array are reflected in the real array\n",
    "vi[1]=5\n",
    "print(\"real : \",var2)\n",
    "print(\"viewed : \",vi)\n",
    "print()\n"
   ]
  },
  {
   "cell_type": "code",
   "execution_count": null,
   "metadata": {},
   "outputs": [],
   "source": []
  }
 ],
 "metadata": {
  "kernelspec": {
   "display_name": "Python 3",
   "language": "python",
   "name": "python3"
  },
  "language_info": {
   "codemirror_mode": {
    "name": "ipython",
    "version": 3
   },
   "file_extension": ".py",
   "mimetype": "text/x-python",
   "name": "python",
   "nbconvert_exporter": "python",
   "pygments_lexer": "ipython3",
   "version": "3.12.0"
  }
 },
 "nbformat": 4,
 "nbformat_minor": 2
}
