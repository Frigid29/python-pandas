{
 "cells": [
  {
   "cell_type": "code",
   "execution_count": 1,
   "metadata": {},
   "outputs": [],
   "source": [
    "import numpy as np"
   ]
  },
  {
   "cell_type": "code",
   "execution_count": 2,
   "metadata": {},
   "outputs": [
    {
     "name": "stdout",
     "output_type": "stream",
     "text": [
      "[1 2 3 4 5 6 7 8]\n"
     ]
    }
   ],
   "source": [
    "x=np.array([1,2,3,4,5,6,7,8])\n",
    "print(x)"
   ]
  },
  {
   "cell_type": "code",
   "execution_count": 4,
   "metadata": {},
   "outputs": [
    {
     "name": "stdout",
     "output_type": "stream",
     "text": [
      "1\n",
      "2\n",
      "3\n",
      "4\n",
      "5\n",
      "6\n",
      "7\n",
      "8\n"
     ]
    }
   ],
   "source": [
    "for i in x:\n",
    "    print(i)"
   ]
  },
  {
   "cell_type": "code",
   "execution_count": 7,
   "metadata": {},
   "outputs": [
    {
     "name": "stdout",
     "output_type": "stream",
     "text": [
      "[[1 2 3]\n",
      " [4 5 6]]\n",
      "[1 2 3]\n",
      "[4 5 6]\n"
     ]
    }
   ],
   "source": [
    "k=np.array([[1,2,3],[4,5,6]])\n",
    "print(k)\n",
    "for i in k:\n",
    "    print(i)\n",
    "#its giving array as an output "
   ]
  },
  {
   "cell_type": "code",
   "execution_count": 5,
   "metadata": {},
   "outputs": [
    {
     "name": "stdout",
     "output_type": "stream",
     "text": [
      "[[1 2 3]\n",
      " [4 5 6]]\n",
      "1 2 3 \n",
      "4 5 6 \n"
     ]
    }
   ],
   "source": [
    "y=np.array([[1,2,3],[4,5,6]])\n",
    "print(y)\n",
    "for i in y:\n",
    "    for j in i:\n",
    "        print(j,end=' ')\n",
    "    print()"
   ]
  },
  {
   "cell_type": "code",
   "execution_count": 13,
   "metadata": {},
   "outputs": [
    {
     "name": "stdout",
     "output_type": "stream",
     "text": [
      "[[[26 34 17]\n",
      "  [44 22 39]\n",
      "  [35  7 46]]\n",
      "\n",
      " [[36 35 13]\n",
      "  [ 6  9 28]\n",
      "  [27  9 41]]\n",
      "\n",
      " [[ 8 12 24]\n",
      "  [31 15 37]\n",
      "  [15  3 42]]]\n",
      "\n",
      "26  34  17  \n",
      "44  22  39  \n",
      "35  7  46  \n",
      "\n",
      "36  35  13  \n",
      "6  9  28  \n",
      "27  9  41  \n",
      "\n",
      "8  12  24  \n",
      "31  15  37  \n",
      "15  3  42  \n",
      "\n"
     ]
    }
   ],
   "source": [
    "np.random.seed(88)\n",
    "z=np.random.randint(2,50,27)\n",
    "z=z.reshape(3, 3, 3)\n",
    "print(z)\n",
    "print()\n",
    "for i in z:\n",
    "    for j in i:\n",
    "        for m in j:\n",
    "            print(m, end='  ')\n",
    "        print()\n",
    "    print()\n"
   ]
  },
  {
   "cell_type": "code",
   "execution_count": 19,
   "metadata": {},
   "outputs": [
    {
     "name": "stdout",
     "output_type": "stream",
     "text": [
      "[[[26 34 17]\n",
      "  [44 22 39]\n",
      "  [35  7 46]]\n",
      "\n",
      " [[36 35 13]\n",
      "  [ 6  9 28]\n",
      "  [27  9 41]]\n",
      "\n",
      " [[ 8 12 24]\n",
      "  [31 15 37]\n",
      "  [15  3 42]]]\n",
      "\n",
      "26\n",
      "34\n",
      "17\n",
      "44\n",
      "22\n",
      "39\n",
      "35\n",
      "7\n",
      "46\n",
      "36\n",
      "35\n",
      "13\n",
      "6\n",
      "9\n",
      "28\n",
      "27\n",
      "9\n",
      "41\n",
      "8\n",
      "12\n",
      "24\n",
      "31\n",
      "15\n",
      "37\n",
      "15\n",
      "3\n",
      "42\n"
     ]
    }
   ],
   "source": [
    "print(z, end='\\n\\n')\n",
    "for i in np.nditer(z):\n",
    "    print(i)"
   ]
  },
  {
   "cell_type": "code",
   "execution_count": 20,
   "metadata": {},
   "outputs": [
    {
     "name": "stdout",
     "output_type": "stream",
     "text": [
      "[[[26 34 17]\n",
      "  [44 22 39]\n",
      "  [35  7 46]]\n",
      "\n",
      " [[36 35 13]\n",
      "  [ 6  9 28]\n",
      "  [27  9 41]]\n",
      "\n",
      " [[ 8 12 24]\n",
      "  [31 15 37]\n",
      "  [15  3 42]]]\n",
      "\n",
      "b'26'\n",
      "b'34'\n",
      "b'17'\n",
      "b'44'\n",
      "b'22'\n",
      "b'39'\n",
      "b'35'\n",
      "b'7'\n",
      "b'46'\n",
      "b'36'\n",
      "b'35'\n",
      "b'13'\n",
      "b'6'\n",
      "b'9'\n",
      "b'28'\n",
      "b'27'\n",
      "b'9'\n",
      "b'41'\n",
      "b'8'\n",
      "b'12'\n",
      "b'24'\n",
      "b'31'\n",
      "b'15'\n",
      "b'37'\n",
      "b'15'\n",
      "b'3'\n",
      "b'42'\n"
     ]
    }
   ],
   "source": [
    "print(z, end='\\n\\n')\n",
    "for i in np.nditer(z,flags=['buffered'] ,op_dtypes='S'):\n",
    "    print(i)"
   ]
  },
  {
   "cell_type": "code",
   "execution_count": 23,
   "metadata": {},
   "outputs": [
    {
     "name": "stdout",
     "output_type": "stream",
     "text": [
      "index:  (0, 0, 0)  element:  26\n",
      "index:  (0, 0, 1)  element:  34\n",
      "index:  (0, 0, 2)  element:  17\n",
      "index:  (0, 1, 0)  element:  44\n",
      "index:  (0, 1, 1)  element:  22\n",
      "index:  (0, 1, 2)  element:  39\n",
      "index:  (0, 2, 0)  element:  35\n",
      "index:  (0, 2, 1)  element:  7\n",
      "index:  (0, 2, 2)  element:  46\n",
      "index:  (1, 0, 0)  element:  36\n",
      "index:  (1, 0, 1)  element:  35\n",
      "index:  (1, 0, 2)  element:  13\n",
      "index:  (1, 1, 0)  element:  6\n",
      "index:  (1, 1, 1)  element:  9\n",
      "index:  (1, 1, 2)  element:  28\n",
      "index:  (1, 2, 0)  element:  27\n",
      "index:  (1, 2, 1)  element:  9\n",
      "index:  (1, 2, 2)  element:  41\n",
      "index:  (2, 0, 0)  element:  8\n",
      "index:  (2, 0, 1)  element:  12\n",
      "index:  (2, 0, 2)  element:  24\n",
      "index:  (2, 1, 0)  element:  31\n",
      "index:  (2, 1, 1)  element:  15\n",
      "index:  (2, 1, 2)  element:  37\n",
      "index:  (2, 2, 0)  element:  15\n",
      "index:  (2, 2, 1)  element:  3\n",
      "index:  (2, 2, 2)  element:  42\n"
     ]
    }
   ],
   "source": [
    "\n",
    "for i,d in np.ndenumerate(z):\n",
    "    print(\"index: \",i,\" element: \",d)"
   ]
  },
  {
   "cell_type": "code",
   "execution_count": null,
   "metadata": {},
   "outputs": [],
   "source": []
  }
 ],
 "metadata": {
  "kernelspec": {
   "display_name": "Python 3",
   "language": "python",
   "name": "python3"
  },
  "language_info": {
   "codemirror_mode": {
    "name": "ipython",
    "version": 3
   },
   "file_extension": ".py",
   "mimetype": "text/x-python",
   "name": "python",
   "nbconvert_exporter": "python",
   "pygments_lexer": "ipython3",
   "version": "3.12.0"
  }
 },
 "nbformat": 4,
 "nbformat_minor": 2
}
