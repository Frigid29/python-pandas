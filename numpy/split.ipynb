{
 "cells": [
  {
   "cell_type": "code",
   "execution_count": 1,
   "metadata": {},
   "outputs": [],
   "source": [
    "import numpy as np"
   ]
  },
  {
   "cell_type": "code",
   "execution_count": 3,
   "metadata": {},
   "outputs": [],
   "source": [
    "x=np.array([1,2,3,4,5,6])"
   ]
  },
  {
   "cell_type": "code",
   "execution_count": 6,
   "metadata": {},
   "outputs": [
    {
     "name": "stdout",
     "output_type": "stream",
     "text": [
      "[array([1, 2]), array([3, 4]), array([5, 6])]\n",
      "\n",
      "<class 'list'>\n",
      "\n",
      "[1 2]\n"
     ]
    }
   ],
   "source": [
    "ar=np.array_split(x,3)\n",
    "print(ar)\n",
    "print()\n",
    "print(type(ar))\n",
    "print()\n",
    "print(ar[0])"
   ]
  },
  {
   "cell_type": "code",
   "execution_count": 13,
   "metadata": {},
   "outputs": [
    {
     "name": "stdout",
     "output_type": "stream",
     "text": [
      "[[1 2]\n",
      " [3 4]\n",
      " [5 6]]\n",
      "\n",
      "[array([[1, 2]]), array([[3, 4]]), array([[5, 6]])]\n",
      "\n",
      "[[1]\n",
      " [3]\n",
      " [5]]\n"
     ]
    }
   ],
   "source": [
    "y=np.array([[1,2],[3,4],[5,6]])\n",
    "print(y)\n",
    "print()\n",
    "arr=np.array_split(y,3)\n",
    "print(arr)\n",
    "print()\n",
    "arr_new=np.array_split(y,3, axis=1)\n",
    "print(arr_new[0])"
   ]
  },
  {
   "cell_type": "code",
   "execution_count": 15,
   "metadata": {},
   "outputs": [
    {
     "name": "stdout",
     "output_type": "stream",
     "text": [
      "[[1 2 9]\n",
      " [3 4 8]\n",
      " [5 6 7]]\n",
      "\n",
      "[array([[1, 2, 9]]), array([[3, 4, 8]]), array([[5, 6, 7]])]\n",
      "\n",
      "[array([[1],\n",
      "       [3],\n",
      "       [5]]), array([[2],\n",
      "       [4],\n",
      "       [6]]), array([[9],\n",
      "       [8],\n",
      "       [7]])]\n",
      "\n",
      "[[1]\n",
      " [3]\n",
      " [5]]\n"
     ]
    }
   ],
   "source": [
    "z=np.array([[1,2,9],[3,4,8],[5,6,7]])\n",
    "print(z)\n",
    "print()\n",
    "arr=np.array_split(z,3)\n",
    "print(arr)\n",
    "print()\n",
    "arr_new=np.array_split(z,3, axis=1)\n",
    "print(arr_new)\n",
    "print()\n",
    "print(arr_new[0])"
   ]
  }
 ],
 "metadata": {
  "kernelspec": {
   "display_name": "Python 3",
   "language": "python",
   "name": "python3"
  },
  "language_info": {
   "codemirror_mode": {
    "name": "ipython",
    "version": 3
   },
   "file_extension": ".py",
   "mimetype": "text/x-python",
   "name": "python",
   "nbconvert_exporter": "python",
   "pygments_lexer": "ipython3",
   "version": "3.12.0"
  }
 },
 "nbformat": 4,
 "nbformat_minor": 2
}
