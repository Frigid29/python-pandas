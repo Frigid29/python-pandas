{
 "cells": [
  {
   "cell_type": "code",
   "execution_count": null,
   "metadata": {},
   "outputs": [],
   "source": [
    "#project 1"
   ]
  },
  {
   "cell_type": "markdown",
   "metadata": {},
   "source": [
    "Questions:\n",
    "1. Display Top 10 Rows of The Dataset\n",
    "2. Check Last 10 Rows of The Dataset\n",
    "3. Check Datatype of Each Column\n",
    "4. Check null values in the dataset\n",
    "5. How many rows and columns are there in our Dataset? \n",
    "6. Highest and Lowest Purchase Prices.\n",
    "7. Average Purchase Price\n",
    "8. How many people have French 'fr' as their Language?\n",
    "9. Job Title Contains Engineer\n",
    "10. Find The Email of the person with the following IP Address: 132.207.160.22\n",
    "11. How many People have Mastercard as their Credit Card Provider and made a purchase above 50?\n",
    "12. Find the email of the person with the following Credit Card Number: 4664825258997302\n",
    "13. How many people purchase during the AM and how many people purchase during PM?\n",
    "14. How many people have a credit card that expires in 2020?\n",
    "15. What are the top 5 most popular email providers"
   ]
  },
  {
   "cell_type": "code",
   "execution_count": 1,
   "metadata": {},
   "outputs": [],
   "source": [
    "import pandas as pd "
   ]
  },
  {
   "cell_type": "code",
   "execution_count": null,
   "metadata": {},
   "outputs": [],
   "source": [
    "data=pd.read_csv(\"Ecommerce Purchases.csv\")\n",
    "data"
   ]
  },
  {
   "cell_type": "code",
   "execution_count": null,
   "metadata": {},
   "outputs": [],
   "source": [
    "#1.display top 10 rows\n",
    "data.head(10)"
   ]
  },
  {
   "cell_type": "code",
   "execution_count": null,
   "metadata": {},
   "outputs": [],
   "source": [
    "#2.check last 10 rows\n",
    "data.tail(10)"
   ]
  },
  {
   "cell_type": "code",
   "execution_count": null,
   "metadata": {},
   "outputs": [],
   "source": [
    "#3.check datatype of each column\n",
    "data.dtypes"
   ]
  },
  {
   "cell_type": "code",
   "execution_count": null,
   "metadata": {},
   "outputs": [],
   "source": [
    "#4.check null values\n",
    "data.isnull().sum()"
   ]
  },
  {
   "cell_type": "code",
   "execution_count": null,
   "metadata": {},
   "outputs": [],
   "source": [
    "#5.how many rows and columns are there in our dataset\n",
    "print(\"no. of rows: \", data.shape[0])\n",
    "print(\"no. of columns: \", data.shape[1])"
   ]
  },
  {
   "cell_type": "code",
   "execution_count": null,
   "metadata": {},
   "outputs": [],
   "source": [
    "#6.highest and lowest purchase price\n",
    "print(\"Highest purchase price: \", data[\"Purchase Price\"].max())\n",
    "print(\"Lowest purchase price: \", data[\"Purchase Price\"].min())"
   ]
  },
  {
   "cell_type": "code",
   "execution_count": null,
   "metadata": {},
   "outputs": [],
   "source": [
    "#7.Average purchase price\n",
    "print(\"Average purchase price: \", data[\"Purchase Price\"].mean())"
   ]
  },
  {
   "cell_type": "code",
   "execution_count": null,
   "metadata": {},
   "outputs": [],
   "source": [
    "#8.how many people hava french 'fr' as their language\n",
    "len(data[data[\"Language\"] == \"fr\"])"
   ]
  },
  {
   "cell_type": "code",
   "execution_count": null,
   "metadata": {},
   "outputs": [],
   "source": [
    "#9.job title contains engineer\n",
    "len(data[data[\"Job\"].str.contains(\"engineer\", case=False)])"
   ]
  },
  {
   "cell_type": "code",
   "execution_count": null,
   "metadata": {},
   "outputs": [],
   "source": [
    "#10. find the email of the person with the following ip address: 132.207.160.22\n",
    "data[data[\"IP Address\"]==\"132.207.160.22\"][\"Email\"]"
   ]
  },
  {
   "cell_type": "code",
   "execution_count": null,
   "metadata": {},
   "outputs": [],
   "source": [
    "#11. how many people have mastercard as their credit card provider and have made a purchase over 50\n",
    "temp=data[data[\"CC Provider\"]==\"Mastercard\"]\n",
    "len(temp[temp[\"Purchase Price\"]>50])"
   ]
  },
  {
   "cell_type": "code",
   "execution_count": null,
   "metadata": {},
   "outputs": [],
   "source": [
    "#12. find the email of the person with the following Credit Card Number: 4664825258997302\n",
    "data[data[\"Credit Card\"]==4664825258997302][\"Email\"]"
   ]
  },
  {
   "cell_type": "code",
   "execution_count": null,
   "metadata": {},
   "outputs": [],
   "source": [
    "#13 how many people purchase during the am and how many purchase during the pm\n",
    "am_purchase=len(data[data[\"AM or PM\"]==\"AM\"])\n",
    "pm_purchase=len(data[data[\"AM or PM\"]==\"PM\"])\n",
    "print(\"AM Purchase: \", am_purchase)\n",
    "print(\"PM Purchase: \", pm_purchase)"
   ]
  },
  {
   "cell_type": "code",
   "execution_count": null,
   "metadata": {},
   "outputs": [],
   "source": [
    "#14 how many people have credit card that expires in 2020?\n",
    "len(data[data[\"CC Exp Date\"].str.contains(\"/20\")])"
   ]
  },
  {
   "cell_type": "code",
   "execution_count": 72,
   "metadata": {},
   "outputs": [
    {
     "name": "stdout",
     "output_type": "stream",
     "text": [
      "temp\n",
      "hotmail.com     1638\n",
      "yahoo.com       1616\n",
      "gmail.com       1605\n",
      "smith.com         42\n",
      "williams.com      37\n",
      "Name: count, dtype: int64\n"
     ]
    },
    {
     "data": {
      "text/plain": [
       "0                  yahoo.com\n",
       "1                   reed.com\n",
       "2       morales-harrison.com\n",
       "3        olson-robinson.info\n",
       "4                  gmail.com\n",
       "                ...         \n",
       "9995         wade-garner.com\n",
       "9996             hotmail.com\n",
       "9997               gmail.com\n",
       "9998                reid.net\n",
       "9999              vaughn.com\n",
       "Name: temp, Length: 10000, dtype: object"
      ]
     },
     "execution_count": 72,
     "metadata": {},
     "output_type": "execute_result"
    }
   ],
   "source": [
    "#15 what are the top 5 most popular email providers\n",
    "list1=[]\n",
    "for email in data[\"Email\"]:\n",
    "    list1.append(email.split(\"@\")[1])\n",
    "data[\"temp\"]=list1\n",
    "print(data[\"temp\"].value_counts().head())\n",
    "data.pop(\"temp\")"
   ]
  }
 ],
 "metadata": {
  "kernelspec": {
   "display_name": "Python 3",
   "language": "python",
   "name": "python3"
  },
  "language_info": {
   "codemirror_mode": {
    "name": "ipython",
    "version": 3
   },
   "file_extension": ".py",
   "mimetype": "text/x-python",
   "name": "python",
   "nbconvert_exporter": "python",
   "pygments_lexer": "ipython3",
   "version": "3.12.0"
  }
 },
 "nbformat": 4,
 "nbformat_minor": 2
}
